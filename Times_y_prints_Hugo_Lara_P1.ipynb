{
 "cells": [
  {
   "cell_type": "markdown",
   "metadata": {},
   "source": [
    "# Práctica 02. De la programación de bloques a Python (Tema 3)\n",
    "## Enunciado  de las prácticas"
   ]
  },
  {
   "cell_type": "markdown",
   "metadata": {},
   "source": [
    "**Programación**: convertir los programas realizados en Scratch al lenguaje de programación Python. Se tomará como punto de partida, la solución propuesta por el profesor.\n",
    "\n",
    "\n",
    "**IMPORTANTE: Cada programa se escribirá en una celda y se solucionará en este mismo notebook en la celda indicada**. "
   ]
  },
  {
   "cell_type": "markdown",
   "metadata": {},
   "source": [
    "Como venimos de un lenguaje muy visual como Scratch, haremos algunas simplificaciones:\n",
    "- El gato será un asterisco: *.\n",
    "- Un gato grande, serán dos asteriscos: **.\n",
    "- Si se esconde: (escondido)\n",
    "- Cuando hable el gato, se mostrar por pantalla: *: ¡Hola!\n",
    "- Cuando avanza el gato un paso, se motrará un *. Si da 3 pasos: ***.\n",
    "- Cuando retroceda el gato, se motrará un -. Si retrocede 3 pasos: ---.\n",
    "- El proceso de espera se ejecutará de la siguiente forma: se escribirá en la parte superior de la celda la intrucción \"import time\", ya veremos más adelante lo que hace. Para crear la espera, escribiremos \"time.sleep(segundos)\"."
   ]
  },
  {
   "cell_type": "code",
   "execution_count": 1,
   "metadata": {},
   "outputs": [
    {
     "name": "stdout",
     "output_type": "stream",
     "text": [
      "Hola\n",
      "Ha pasado 1 segundo\n"
     ]
    }
   ],
   "source": [
    "import time\n",
    "print(\"Hola\")\n",
    "time.sleep(1)\n",
    "print(\"Ha pasado 1 segundo\")"
   ]
  },
  {
   "cell_type": "markdown",
   "metadata": {},
   "source": [
    "### Programa #1: Programación imperativa básica\n",
    "**Secuencializar o agrupar tareas manuales para que sean ejecutadas en un orden concreto**\n",
    "- El gato debe decir \"Hola\" durante 1 segundo.\n",
    "- A continuación se va hacer grande fijando su tamaño a 200%.\n",
    "- Esperaremos 1 segundo.\n",
    "- Ocultaremos el gato.\n",
    "- Esperaremos 1 segundo.\n",
    "- Mostraremos el gato.\n",
    "- Lo dejaremos en su tamaño original, 100%.\n",
    "- Dirá (de forma pensativa) \"Uy, ¿qué ha pasado?\" durante 1 segundo.\n",
    "\n",
    "**Ejemplo de ejecución**\n",
    "```\n",
    "*: ¡Hola!\n",
    "**\n",
    "(escondido)\n",
    "**\n",
    "*\n",
    "Uy, ¿qué ha pasado?\n",
    "```\n",
    "\n",
    "**Solución en la siguiente celda**"
   ]
  },
  {
   "cell_type": "code",
   "execution_count": 2,
   "metadata": {},
   "outputs": [
    {
     "name": "stdout",
     "output_type": "stream",
     "text": [
      "*: Hola!\n",
      "**\n",
      "escondido\n",
      "**\n",
      "*\n",
      "*;Uy, ¿qué ha pasado?\n"
     ]
    }
   ],
   "source": [
    "print(\"*: Hola!\")\n",
    "print(\"**\")\n",
    "\n",
    "import time\n",
    "time. sleep(1)\n",
    "\n",
    "print(\"escondido\")\n",
    "\n",
    "time. sleep( 1 )\n",
    "\n",
    "print (\"**\")\n",
    "print(\"*\")\n",
    "print(\"*;Uy, ¿qué ha pasado?\")\n",
    "\n",
    "time.sleep(1)"
   ]
  },
  {
   "cell_type": "markdown",
   "metadata": {},
   "source": [
    "### Programa #2: Condicionales\n",
    "**Generar distintas salidas en función de la información de entrada**\n",
    "- El gato debe decir \"¡Hola, soy el gato IA!\" durante 1 segundo.\n",
    "- Preguntará \"Dime una palabra en español y la traduciré al inglés\": se pedirá por teclado al usuario.\n",
    "- Se evaluará la palabrá introducida (almacenada en la variable respuesta). Si su contenido es igual a Hola:\n",
    "   + El gato debe decir \"Hola se dice en inglés: hello\" durante 2 segundo.\n",
    "- Si no...\n",
    "   + El gato debe decir \"¡Vaya! Ahí me has pillado\" durante 2 segundo.\n",
    "\n",
    "**Ejemplo de ejecución**\n",
    "\n",
    "Se leerá la palabra por teclado.\n",
    "\n",
    "```\n",
    "¡Hola, soy el gato IA!\n",
    "Dime una palabra en español y la traduciré al inglés: Hola\n",
    "Hola se dice en inglés: hello\n",
    "```\n",
    "\n",
    "**Solución en la siguiente celda**"
   ]
  },
  {
   "cell_type": "code",
   "execution_count": 3,
   "metadata": {},
   "outputs": [
    {
     "name": "stdout",
     "output_type": "stream",
     "text": [
      "¡Hola, soy el gato IA!\n"
     ]
    },
    {
     "name": "stdin",
     "output_type": "stream",
     "text": [
      "Dime una palabra en español y la traduciré al inglés:  Hola\n"
     ]
    },
    {
     "name": "stdout",
     "output_type": "stream",
     "text": [
      "Hola se dice en inglés: Hello\n"
     ]
    }
   ],
   "source": [
    "print (\"¡Hola, soy el gato IA!\")\n",
    "\n",
    "palabra =input( \"Dime una palabra en español y la traduciré al inglés: \" )\n",
    "\n",
    "if palabra==\"Hola\":\n",
    "    print (\"Hola se dice en inglés: Hello\")\n",
    "else:\n",
    "    print(\"¡Vaya! Ahí me has pillado, esa no me la sé\")\n",
    "\n",
    "import time\n",
    "time.sleep(2)"
   ]
  },
  {
   "cell_type": "markdown",
   "metadata": {},
   "source": [
    "### Programa #3: Condicionales anidados\n",
    "**Generar distintas salidas en función de la información de entrada - Avanzado**\n",
    "\n",
    "Se creará un sistema inteligente basado en reglas:\n",
    "- Preguntará \"¿Qué temperatura hace hoy?\": La temperatura se inicializará directamente en una variable, no se pedirá por teclado.\n",
    "```\n",
    "temperatura = 25\n",
    "```\n",
    "- Si la temperatura es inferior a 0 grados el gato dirá: \"Hace mucho, pero que mucho frío\" durante 2 segundos.\n",
    "- Si la temperatura está entre [0, 9] el gato dirá: \"Hace frio, pero se puede soportar\" durante 2 segundos.\n",
    "- Si la temperatura está entre [10, 19] el gato dirá: \"La temperatura es agradable\" durante 2 segundos.\n",
    "- Si la temperatura está entre [20, 29] el gato dirá: \"Empieza el calorcito\" durante 2 segundos.\n",
    "- Si la temperatura es superior a 30 grados el gato dirá: \"Hace mucho, pero mucho calor\" durante 2 segundos.\n",
    "\n",
    "**Trabajar con if anidados, como en el pseudocódigo**\n",
    "\n",
    "**Solución en la siguiente celda**"
   ]
  },
  {
   "cell_type": "code",
   "execution_count": 7,
   "metadata": {},
   "outputs": [
    {
     "name": "stdin",
     "output_type": "stream",
     "text": [
      "¿Qué temperatura hace hoy?  50\n"
     ]
    },
    {
     "name": "stdout",
     "output_type": "stream",
     "text": [
      "Hace mucho, pero mucho calor\n"
     ]
    }
   ],
   "source": [
    "temperatura = int(input(\"¿Qué temperatura hace hoy? \"))\n",
    "if temperatura < 0: print (\"Hace mucho, pero que mucho frío\")\n",
    "else:\n",
    "    if temperatura < 10: print (\"Hace frio, pero se puede soportar\")\n",
    "    else:\n",
    "        if temperatura < 20: print (\"La temperatura es agradable\")\n",
    "        else:\n",
    "            if temperatura < 30:print (\"Empieza el calorcito\")\n",
    "            else: print (\"Hace mucho, pero mucho calor\")"
   ]
  },
  {
   "cell_type": "markdown",
   "metadata": {},
   "source": [
    "### Programa #4: Bucles\n",
    "**Automatizar y optimizar la repetición de una serie de tareas**\n",
    "\n",
    "Se creará un programa, similar al desarrollado en Scratch, en el cuál se diga en primer lugar \"¡Hola!\", a continuación se mostrará un \"\\*\" por cada paso hasta dar 8 y se mostrárá el texto \"¡Llegué!\". Se mostrará el texto \"Volviendo\" y de vuelta se mostrará un \"-\" por cada paso de vuelta. Al finalizar se mostrará el texto \"¡Volví!\".\n",
    "\n",
    "**Ejemplo de ejecución**\n",
    "\n",
    "Se mostrará dejando 1 segundo entre cada paso (vez que se muestra al gato). Es como si el gato se moviera verticalmente, en lugar de horizontal.\n",
    "\n",
    "```\n",
    "¡Hola!\n",
    "*\n",
    "*\n",
    "*\n",
    "*\n",
    "*\n",
    "*\n",
    "*\n",
    "*\n",
    "¡Llegué! Volviendo \n",
    "-\n",
    "-\n",
    "-\n",
    "-\n",
    "-\n",
    "-\n",
    "-\n",
    "-\n",
    "¡Volví!\n",
    "```\n",
    "\n",
    "**Solución en la siguiente celda sin utilizar bucles**"
   ]
  },
  {
   "cell_type": "code",
   "execution_count": 4,
   "metadata": {},
   "outputs": [
    {
     "name": "stdout",
     "output_type": "stream",
     "text": [
      "¡Hola!\n",
      "*\n",
      "*\n",
      "*\n",
      "*\n",
      "*\n",
      "*\n",
      "*\n",
      "*\n",
      "Llegué, volviendo a irme...\n",
      "-\n",
      "-\n",
      "-\n",
      "-\n",
      "-\n",
      "-\n",
      "-\n",
      "-\n",
      "¡Volví¿\n"
     ]
    }
   ],
   "source": [
    "print(\"¡Hola!\")\n",
    "\n",
    "import time\n",
    "time.sleep(1)\n",
    "\n",
    "print(\"*\")\n",
    "time.sleep(1)\n",
    "print(\"*\")\n",
    "time.sleep(1)\n",
    "print(\"*\")\n",
    "time.sleep(1)\n",
    "print(\"*\")\n",
    "time.sleep(1)\n",
    "print(\"*\")\n",
    "time.sleep(1)\n",
    "print(\"*\")\n",
    "time.sleep(1)\n",
    "print(\"*\")\n",
    "time.sleep(1)\n",
    "print(\"*\")\n",
    "time.sleep(1)\n",
    "\n",
    "print(\"Llegué, volviendo a irme...\")\n",
    "\n",
    "time.sleep(1)\n",
    "print(\"-\")\n",
    "time.sleep(1)\n",
    "print(\"-\")\n",
    "time.sleep(1)\n",
    "print(\"-\")\n",
    "time.sleep(1)\n",
    "print(\"-\")\n",
    "time.sleep(1)\n",
    "print(\"-\")\n",
    "time.sleep(1)\n",
    "print(\"-\")\n",
    "time.sleep(1)\n",
    "print(\"-\")\n",
    "time.sleep(1)\n",
    "print(\"-\")\n",
    "time.sleep(1)\n",
    "\n",
    "print(\"¡Volví¿\")"
   ]
  },
  {
   "cell_type": "markdown",
   "metadata": {},
   "source": [
    "**Solución en la siguiente celda con bucles**"
   ]
  },
  {
   "cell_type": "code",
   "execution_count": null,
   "metadata": {},
   "outputs": [],
   "source": [
    "# Éste no me sale todavía, me falta un poco más :/"
   ]
  }
 ],
 "metadata": {
  "kernelspec": {
   "display_name": "Python 3 (ipykernel)",
   "language": "python",
   "name": "python3"
  },
  "language_info": {
   "codemirror_mode": {
    "name": "ipython",
    "version": 3
   },
   "file_extension": ".py",
   "mimetype": "text/x-python",
   "name": "python",
   "nbconvert_exporter": "python",
   "pygments_lexer": "ipython3",
   "version": "3.12.4"
  },
  "vscode": {
   "interpreter": {
    "hash": "03f549537fa19b43efbf5aa4d6467b94388b966112c368cc66a2484d89a4a6bd"
   }
  }
 },
 "nbformat": 4,
 "nbformat_minor": 4
}
