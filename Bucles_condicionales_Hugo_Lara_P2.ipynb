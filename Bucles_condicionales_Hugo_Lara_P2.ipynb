{
 "cells": [
  {
   "cell_type": "markdown",
   "metadata": {},
   "source": [
    "# 3. Trabajando con condicionales y bucles (Tema 3)\n",
    "## Enunciado de la práctica"
   ]
  },
  {
   "cell_type": "markdown",
   "metadata": {},
   "source": [
    "**Objetivos**: \n",
    "- Dominar el almacenamiento de datos en variables.\n",
    "- Dominar las estructuras de control if y while."
   ]
  },
  {
   "cell_type": "markdown",
   "metadata": {},
   "source": [
    "Se programarán las soluciones en este mismo Notebook en la celda que se suministra al efecto.\n",
    "\n",
    "**IMPORTANTE**\n",
    "\n",
    "Cuando trabajamos con bucles es muy fácil crear bucles infinitos, es decir, bucles que no terminan nunca porque no se llega a cumplir la condición de parada. La forma de parar la ejecución infinita de una celda es pulsando en el botón de parar ejecución (en VSC a la izquierda de la celda y en Jupyter en la parte superior)."
   ]
  },
  {
   "cell_type": "markdown",
   "metadata": {},
   "source": [
    "### Programa #1. Bucles nivel básico\n",
    "\n",
    "Calcular el factorial y el sumatorio de un número dado.\n",
    "\n",
    "```\n",
    "numero = 5\n",
    "\n",
    "El sumatorio de 5 es 15\n",
    "El factorial de 5 es 120\n",
    "```\n",
    "\n",
    "**Solución en la celda siguiente**"
   ]
  },
  {
   "cell_type": "code",
   "execution_count": 3,
   "metadata": {},
   "outputs": [
    {
     "name": "stdout",
     "output_type": "stream",
     "text": [
      "15\n"
     ]
    }
   ],
   "source": [
    "numero = 5\n",
    "sumatorio = 0\n",
    "i = 1\n",
    "while i <= numero:\n",
    "    sumatorio = sumatorio + i\n",
    "    i = i + 1\n",
    "print(sumatorio)"
   ]
  },
  {
   "cell_type": "code",
   "execution_count": 4,
   "metadata": {},
   "outputs": [
    {
     "name": "stdout",
     "output_type": "stream",
     "text": [
      "120\n"
     ]
    }
   ],
   "source": [
    "numero = 5\n",
    "factorial = 1\n",
    "i = 1\n",
    "while i <= numero:\n",
    "    factorial = factorial  * i\n",
    "    i = i + 1\n",
    "print(factorial)"
   ]
  },
  {
   "cell_type": "markdown",
   "metadata": {},
   "source": [
    "### Programa #2a. Bucles nivel medio\n",
    "\n",
    "Mostrar una lista de números sucesivos del 1 al 10 y del 10 al 1 con dos bucles while.\n",
    "```\n",
    "1, 2,...., 9, 10, 9, ..., 2, 1\n",
    "```\n",
    "\n",
    "**Solución en la celda siguiente**"
   ]
  },
  {
   "cell_type": "code",
   "execution_count": 14,
   "metadata": {},
   "outputs": [
    {
     "name": "stdout",
     "output_type": "stream",
     "text": [
      "1\n",
      "2\n",
      "3\n",
      "4\n",
      "5\n",
      "6\n",
      "7\n",
      "8\n",
      "9\n",
      "10\n",
      "9\n",
      "8\n",
      "7\n",
      "6\n",
      "5\n",
      "4\n",
      "3\n",
      "2\n",
      "1\n"
     ]
    }
   ],
   "source": [
    "i = 0\n",
    "while i < 10:\n",
    "    i = i + 1\n",
    "    print (i)\n",
    "u = 10\n",
    "while u > 1:\n",
    "    u = u -1\n",
    "    print (u)"
   ]
  },
  {
   "cell_type": "markdown",
   "metadata": {},
   "source": [
    "### Programa #2b. Bucles nivel avanzado\n",
    "\n",
    "Mostrar una cuenta de números del 1 al 10 y del 10 al 1 **con un solo bucle while**.\n",
    "```\n",
    "1, 2,...., 9, 10, 9, ..., 2, 1\n",
    "```\n",
    "\n",
    "**Solución en la celda siguiente**"
   ]
  },
  {
   "cell_type": "code",
   "execution_count": 11,
   "metadata": {},
   "outputs": [
    {
     "name": "stdout",
     "output_type": "stream",
     "text": [
      "1 10\n",
      "2 9\n",
      "3 8\n",
      "4 7\n",
      "5 6\n",
      "6 5\n",
      "7 4\n",
      "8 3\n",
      "9 2\n",
      "10 1\n"
     ]
    }
   ],
   "source": [
    "abajo = 0\n",
    "arriba = 11\n",
    "while abajo < 10 and arriba > 0:\n",
    "    abajo = abajo + 1\n",
    "    arriba = arriba - 1\n",
    "    print(abajo, arriba)\n",
    "    "
   ]
  },
  {
   "cell_type": "markdown",
   "metadata": {},
   "source": [
    "### Programa #3. Condiciones anidadas\n",
    "\n",
    "Crear un sistema experto (principios de la IA) basado en reglas para que en función de los datos de entrada del usuario, diagnóstiquemos la enfermedad de un paciente. Se implementará este problema utilizando condicionales anidados.\n",
    "\n",
    "Primero se le preguntará por teclado si tiene fiebre el paciente. Si tiene fiebre, habrá que saber si le duele la garganta. Si la respuesta es cierta, se le preguntará otra vez si posee alguna dificultad respiratoria. Si fuese así, tendrá COVID, si no, una infección de garganta. Si no le duele la garganta habrá que preguntarle por la tos. Si tose, tendrá bronquitis y si no, una infección desonocida. Si no tiene fiebre, estará sano como un roble. :) \n",
    "\n",
    "**Entrada del programa**\n",
    "\n",
    "Una sugerencia puede ser esta:\n",
    "```\n",
    "\"¿Tienes dolor de garganta? (S/N)\"\n",
    "```\n",
    "\n",
    "**Salida del programa**\n",
    "```\n",
    "El Dr. IA te diagnostica:  COVID\n",
    "````\n",
    "\n",
    "**Realizar el diagrama de flujo antes de implementar este programa**\n",
    "\n",
    "**Solución en la celda siguiente**"
   ]
  },
  {
   "cell_type": "code",
   "execution_count": 1,
   "metadata": {},
   "outputs": [
    {
     "name": "stdin",
     "output_type": "stream",
     "text": [
      "¿Tienes fiebre? (S/N):  S\n",
      "¿Te duele la garganta? (S/N):  S\n",
      "¿Tienes dificultad respiratoria? (S/N):  S\n"
     ]
    },
    {
     "name": "stdout",
     "output_type": "stream",
     "text": [
      "Tienes COVID\n"
     ]
    }
   ],
   "source": [
    "fiebre = input(\"¿Tienes fiebre? (S/N): \")\n",
    "if fiebre == \"S\":\n",
    "    dolor_garganta = input(\"¿Te duele la garganta? (S/N): \")\n",
    "    if dolor_garganta == \"S\":\n",
    "        dificultad_respiratoria = input(\"¿Tienes dificultad respiratoria? (S/N): \")\n",
    "        if dificultad_respiratoria == \"S\":\n",
    "            print(\"Tienes COVID\")\n",
    "        else:\n",
    "            print(\"Infección de garganta\")\n",
    "    else:\n",
    "        tos = input(\"¿Tienes tos? (S/N): \")\n",
    "        if tos == \"S\":\n",
    "            print(\"Bronquitis\")\n",
    "        else:\n",
    "            print(\"Infección desconocida\")  \n",
    "else:\n",
    "    print(\"Estás sano como un roble\")"
   ]
  },
  {
   "cell_type": "markdown",
   "metadata": {},
   "source": [
    "### Programa #4. Cálculo de una función\n",
    "\n",
    "Dada la siguiente función, calcular los valores de ésta en todos los números enteros del intervalo [-5,5] y mostrarlos por pantalla, como se sugiere a continuación.\n",
    "\n",
    "$f(x) = x^3 + 2x^2 - 3x +7$\n",
    "\n",
    "**Salida del programa**\n",
    "\n",
    "```\n",
    "( -5 ,  -53 )\n",
    "( -4 ,  -13 )\n",
    "( -3 ,  7 )\n",
    "( -2 ,  13 )\n",
    "( -1 ,  11 )\n",
    "( 0 ,  7 )\n",
    "( 1 ,  7 )\n",
    "( 2 ,  17 )\n",
    "( 3 ,  43 )\n",
    "( 4 ,  91 )\n",
    "( 5 ,  167 )\n",
    "```\n",
    "\n",
    "**Solución en la celda siguiente**"
   ]
  },
  {
   "cell_type": "code",
   "execution_count": 1,
   "metadata": {},
   "outputs": [
    {
     "name": "stdout",
     "output_type": "stream",
     "text": [
      "(-5, -53)\n",
      "(-4, -13)\n",
      "(-3, 7)\n",
      "(-2, 13)\n",
      "(-1, 11)\n",
      "(0, 7)\n",
      "(1, 7)\n",
      "(2, 17)\n",
      "(3, 43)\n",
      "(4, 91)\n",
      "(5, 167)\n"
     ]
    }
   ],
   "source": [
    "x = -6\n",
    "def f(x): return x**3 + 2*x**2 - 3*x + 7\n",
    "while -6 <= x < 5:\n",
    "    x = x + 1\n",
    "    print ( ( x , f(x) ) )"
   ]
  },
  {
   "cell_type": "markdown",
   "metadata": {},
   "source": [
    "### Programa #5. Conversión de decimal a binario\n",
    "\n",
    "Realizar un programa que convierta del sistema numérico decimal a binario. Programarlo de tal manera para que funcione para las bases desde 2 hasta 10.\n",
    "\n",
    "**Entrada de datos**\n",
    "\n",
    "Se inicializará las variables del numero a calcular y la base, no se pedirá por teclado.\n",
    "```\n",
    "numero_decimal = 8\n",
    "base = 2\n",
    "```\n",
    "\n",
    "**Salida**\n",
    "\n",
    "Se mostrará por pantalla el número obtenido de forma inversa, tal y como lo hacemos en papel.\n",
    "```\n",
    "0\n",
    "0\n",
    "0\n",
    "1\n",
    "```"
   ]
  },
  {
   "cell_type": "code",
   "execution_count": 38,
   "metadata": {},
   "outputs": [
    {
     "name": "stdout",
     "output_type": "stream",
     "text": [
      "0\n",
      "0\n",
      "0\n",
      "1\n"
     ]
    }
   ],
   "source": [
    "numero = 8\n",
    "base = 2\n",
    "while numero >= base:\n",
    "    resto = numero % base \n",
    "    numero = numero // base \n",
    "    print(resto)\n",
    "print(numero)"
   ]
  },
  {
   "cell_type": "markdown",
   "metadata": {},
   "source": [
    "#### Programa #5bis. Conversión a hexadecimal (Opcional)\n",
    "\n",
    "Modifica el programa anterior para que funcione para el Sistema Numérico Hexadecimal"
   ]
  },
  {
   "cell_type": "code",
   "execution_count": null,
   "metadata": {},
   "outputs": [],
   "source": []
  }
 ],
 "metadata": {
  "kernelspec": {
   "display_name": "Python 3 (ipykernel)",
   "language": "python",
   "name": "python3"
  },
  "language_info": {
   "codemirror_mode": {
    "name": "ipython",
    "version": 3
   },
   "file_extension": ".py",
   "mimetype": "text/x-python",
   "name": "python",
   "nbconvert_exporter": "python",
   "pygments_lexer": "ipython3",
   "version": "3.12.4"
  },
  "vscode": {
   "interpreter": {
    "hash": "03f549537fa19b43efbf5aa4d6467b94388b966112c368cc66a2484d89a4a6bd"
   }
  }
 },
 "nbformat": 4,
 "nbformat_minor": 4
}
