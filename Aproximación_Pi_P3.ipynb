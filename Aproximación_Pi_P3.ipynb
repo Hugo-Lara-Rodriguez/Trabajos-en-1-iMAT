{
 "cells": [
  {
   "cell_type": "markdown",
   "metadata": {},
   "source": [
    "![Logo iMAT Retos](logo_retos.jpg)\n",
    "\n",
    "# Reto 1. Bucles (Tema 3)\n",
    "\n",
    "Crear los retos que se describen a continuación."
   ]
  },
  {
   "cell_type": "markdown",
   "metadata": {},
   "source": [
    "**Objetivos**: \n",
    "- Dominar el almacenamiento de datos en variables.\n",
    "- Dominar las estructuras de control if y while."
   ]
  },
  {
   "cell_type": "markdown",
   "metadata": {},
   "source": [
    "Se programarán las soluciones en este mismo Notebook en la celda que se suministra al efecto.\n",
    "\n",
    "**IMPORTANTE**\n",
    "\n",
    "Cuando trabajamos con bucles es muy fácil crear bucles infinitos, es decir, bucles que no terminan nunca porque no se llega a cumplir la condición de parada. La forma de parar la ejecución infinita de una celda es pulsando en el botón de parar ejecución (en VSC a la izquierda de la celda y en Jupyter en la parte superior)."
   ]
  },
  {
   "cell_type": "markdown",
   "metadata": {},
   "source": [
    "## Cálculo del número Pi\n",
    "\n",
    "La serie de **Nilakantha** es una serie infinita que se utiliza para la aproximación del número Pi:\n",
    "\n",
    "$\\pi = 3 + \\frac{4}{2·3·4} - \\frac{4}{4·5·6} + \\frac{4}{6·7·8} - \\frac{4}{8·9·10} + \\frac{4}{10·11·12} - \\frac{4}{12·13·14} ...$\n",
    "\n",
    "El tema de series será visto ampliamente en la asignatura de Análisis Matemático.\n",
    "\n",
    "**Solución en las celdas siguientes a cada apartado**\n",
    "\n",
    "**Se pide**\n",
    "\n",
    "a) Copia la serie y genera el número Pi manualmente con los **2** primeros términos mediante una operación artimética Python."
   ]
  },
  {
   "cell_type": "code",
   "execution_count": 34,
   "metadata": {},
   "outputs": [
    {
     "name": "stdout",
     "output_type": "stream",
     "text": [
      "3.1\n"
     ]
    }
   ],
   "source": [
    "pi = 3 + 4/(2*3*4)\n",
    "print(str(pi)[:3]) #Recorto con una función que he buscado que convierte los... \n",
    "                   #...números/datos en cadenas de valores los dígitos que tiene mal aproximados"
   ]
  },
  {
   "cell_type": "markdown",
   "metadata": {},
   "source": [
    "b) Copia la serie y genera el número Pi manualmente con los **4** primeros términos mediante una operación artimética Python."
   ]
  },
  {
   "cell_type": "code",
   "execution_count": 38,
   "metadata": {},
   "outputs": [
    {
     "name": "stdout",
     "output_type": "stream",
     "text": [
      "3.14\n"
     ]
    }
   ],
   "source": [
    "pi = 3 + 4/(2*3*4) - 4/(4*5*6) + 4/(6*7*8) \n",
    "print(str(pi)[:4])"
   ]
  },
  {
   "cell_type": "markdown",
   "metadata": {},
   "source": [
    "c) Copia la serie y genera el número Pi manualmente con los **6** primeros términos mediante una operación artimética Python."
   ]
  },
  {
   "cell_type": "code",
   "execution_count": 41,
   "metadata": {},
   "outputs": [
    {
     "name": "stdout",
     "output_type": "stream",
     "text": [
      "3.14\n"
     ]
    }
   ],
   "source": [
    "pi = 3 + 4/(2*3*4) - (4/(4*5*6)) + 4/(6*7*8) - (4/(8*9*10)) + 4/(10*11*12) \n",
    "print(str(pi)[:4])"
   ]
  },
  {
   "cell_type": "markdown",
   "metadata": {},
   "source": [
    "d) Implementa un programa que genere la serie mediante un bucle realizando las iteraciones que el usuario desee (inicializando la variable solamente, sin pedir por teclado). A continuación ve comprobando que el resultado coincide con el de los términos elegidos anteriormente. ¿Cuál es el número Pi obtenido después de 20 iteraciones?"
   ]
  },
  {
   "cell_type": "code",
   "execution_count": 14,
   "metadata": {},
   "outputs": [
    {
     "name": "stdin",
     "output_type": "stream",
     "text": [
      "Número de iteraciones aquí:  100000\n"
     ]
    },
    {
     "name": "stdout",
     "output_type": "stream",
     "text": [
      "3.1415926535897865\n"
     ]
    }
   ],
   "source": [
    "iteraciones = int(input(\"Número de iteraciones aquí: \"))\n",
    "vueltas = 0\n",
    "pi = 3\n",
    "n1 = 2\n",
    "n2 = 3 \n",
    "n3 = 4\n",
    "while iteraciones > vueltas:\n",
    "    vueltas += 1\n",
    "    if vueltas%2 != 0:\n",
    "        pi += (4/(n1*n2*n3))\n",
    "    else:\n",
    "        pi -= (4/(n1*n2*n3))\n",
    "    n1 += 2\n",
    "    n2 += 2\n",
    "    n3 += 2\n",
    "print (pi)"
   ]
  }
 ],
 "metadata": {
  "kernelspec": {
   "display_name": "Python 3 (ipykernel)",
   "language": "python",
   "name": "python3"
  },
  "language_info": {
   "codemirror_mode": {
    "name": "ipython",
    "version": 3
   },
   "file_extension": ".py",
   "mimetype": "text/x-python",
   "name": "python",
   "nbconvert_exporter": "python",
   "pygments_lexer": "ipython3",
   "version": "3.12.4"
  },
  "vscode": {
   "interpreter": {
    "hash": "03f549537fa19b43efbf5aa4d6467b94388b966112c368cc66a2484d89a4a6bd"
   }
  }
 },
 "nbformat": 4,
 "nbformat_minor": 4
}
